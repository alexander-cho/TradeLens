{
 "cells": [
  {
   "cell_type": "code",
   "execution_count": 37,
   "id": "6a7884e6",
   "metadata": {},
   "outputs": [],
   "source": [
    "from bs4 import BeautifulSoup\n",
    "import requests"
   ]
  },
  {
   "cell_type": "code",
   "execution_count": 36,
   "id": "0147c63b",
   "metadata": {},
   "outputs": [],
   "source": [
    "stock_list = [\"SOFI\", \"AFRM\", \"AAPL\", \"LC\", \"HOOD\", \"TSLA\", \"NET\"]\n",
    "tute_shares = [] # shares_owned_by_institutions column\n",
    "percent_tutes = [] # percent_of_shares column"
   ]
  },
  {
   "cell_type": "code",
   "execution_count": 38,
   "id": "a42ee3e8",
   "metadata": {},
   "outputs": [
    {
     "name": "stdout",
     "output_type": "stream",
     "text": [
      "['376,810,452', '253,733,094', '9,989,914,560', '88,749,525', '612,826,420', '1,522,362,063', '297,328,065']\n",
      "['38.61%', '82.68%', '64.69%', '80.38%', '70.86%', '47.80%', '88.09%']\n"
     ]
    }
   ],
   "source": [
    "for stock in stock_list:\n",
    "    url = f\"https://fintel.io/so/us/{stock}\"\n",
    "    response = requests.get(url)\n",
    "    soup = BeautifulSoup(response.text, 'html.parser')\n",
    "\n",
    "    # scrape share count\n",
    "    target_td_institutional = soup.find_all(\"td\")[12] # from inspection the 12th <td> tag contains the info we want\n",
    "    tute_share = target_td_institutional.text.split(\"-\")[0].strip() # get the contents before the first ''\n",
    "    tute_shares.append(tute_share)\n",
    "\n",
    "    # scrape percentage of total oustanding \n",
    "    target_td_tute_percentage = soup.find_all(\"td\")[12]\n",
    "    tute_percent = target_td_tute_percentage.text.split(\"- \", 1)[1].split(\" \")[0]\n",
    "    percent_tutes.append(tute_percent)\n",
    "    \n",
    "print(tute_shares)\n",
    "print(percent_tutes)"
   ]
  },
  {
   "cell_type": "code",
   "execution_count": 28,
   "id": "8e9956fb",
   "metadata": {},
   "outputs": [],
   "source": [
    "aapl_url = \"https://fintel.io/so/us/AAPL\"\n",
    "response = requests.get(url)\n",
    "soup = BeautifulSoup(response.text, 'html.parser')"
   ]
  },
  {
   "cell_type": "code",
   "execution_count": 29,
   "id": "8a65a547",
   "metadata": {},
   "outputs": [],
   "source": [
    "target_td_tute_percentage = soup.find_all(\"td\")[12]"
   ]
  },
  {
   "cell_type": "code",
   "execution_count": 30,
   "id": "471fdb1d",
   "metadata": {},
   "outputs": [],
   "source": [
    "tute_percent = target_td_tute_percentage.text.split(\"- \", 1)[1].split(\" \")[0]"
   ]
  },
  {
   "cell_type": "code",
   "execution_count": 31,
   "id": "492c270e",
   "metadata": {},
   "outputs": [
    {
     "data": {
      "text/plain": [
       "'70.86%'"
      ]
     },
     "execution_count": 31,
     "metadata": {},
     "output_type": "execute_result"
    }
   ],
   "source": [
    "tute_percent"
   ]
  }
 ],
 "metadata": {
  "kernelspec": {
   "display_name": "Python 3 (ipykernel)",
   "language": "python",
   "name": "python3"
  },
  "language_info": {
   "codemirror_mode": {
    "name": "ipython",
    "version": 3
   },
   "file_extension": ".py",
   "mimetype": "text/x-python",
   "name": "python",
   "nbconvert_exporter": "python",
   "pygments_lexer": "ipython3",
   "version": "3.11.5"
  }
 },
 "nbformat": 4,
 "nbformat_minor": 5
}
